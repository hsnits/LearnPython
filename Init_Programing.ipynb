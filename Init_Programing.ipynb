{
  "nbformat": 4,
  "nbformat_minor": 0,
  "metadata": {
    "colab": {
      "provenance": [],
      "authorship_tag": "ABX9TyMnKssez56W8gB5igndcCRJ",
      "include_colab_link": true
    },
    "kernelspec": {
      "name": "python3",
      "display_name": "Python 3"
    },
    "language_info": {
      "name": "python"
    }
  },
  "cells": [
    {
      "cell_type": "markdown",
      "metadata": {
        "id": "view-in-github",
        "colab_type": "text"
      },
      "source": [
        "<a href=\"https://colab.research.google.com/github/hsnits/LearnPython/blob/main/Init_Programing.ipynb\" target=\"_parent\"><img src=\"https://colab.research.google.com/assets/colab-badge.svg\" alt=\"Open In Colab\"/></a>"
      ]
    },
    {
      "cell_type": "code",
      "execution_count": null,
      "metadata": {
        "id": "3tjUAeogADsU"
      },
      "outputs": [],
      "source": []
    },
    {
      "cell_type": "markdown",
      "source": [],
      "metadata": {
        "id": "d0-Fnu3f-mE4"
      }
    },
    {
      "cell_type": "markdown",
      "source": [
        "Today is Our First Class\n"
      ],
      "metadata": {
        "id": "J332w4nyAkHQ"
      }
    },
    {
      "cell_type": "code",
      "source": [
        "print(\"Hellow Word\")"
      ],
      "metadata": {
        "colab": {
          "base_uri": "https://localhost:8080/"
        },
        "id": "A7tlBtnXAoAQ",
        "outputId": "6267d52f-ccf9-48ed-f372-918f3e3e9e9e"
      },
      "execution_count": null,
      "outputs": [
        {
          "output_type": "stream",
          "name": "stdout",
          "text": [
            "Hellow Word\n"
          ]
        }
      ]
    },
    {
      "cell_type": "code",
      "source": [
        "print(\"Happy Teachers' Day\")"
      ],
      "metadata": {
        "colab": {
          "base_uri": "https://localhost:8080/"
        },
        "id": "mmeVJC50BdfO",
        "outputId": "48a5b456-26be-4c70-a411-33f498c800ae"
      },
      "execution_count": null,
      "outputs": [
        {
          "output_type": "stream",
          "name": "stdout",
          "text": [
            "Happy Teachers' Day\n"
          ]
        }
      ]
    },
    {
      "cell_type": "code",
      "source": [
        "print('Happy Teachers\\' Day')"
      ],
      "metadata": {
        "colab": {
          "base_uri": "https://localhost:8080/"
        },
        "id": "DEXpRTp_BrPw",
        "outputId": "78587c22-ac1c-4bcf-c149-a1c018c33333"
      },
      "execution_count": null,
      "outputs": [
        {
          "output_type": "stream",
          "name": "stdout",
          "text": [
            "Happy Teachers' Day\n"
          ]
        }
      ]
    },
    {
      "cell_type": "code",
      "source": [
        "print('''Happy Teachers' Day''')"
      ],
      "metadata": {
        "colab": {
          "base_uri": "https://localhost:8080/"
        },
        "id": "8UoWahNKCKA4",
        "outputId": "0060f9c9-1081-4ae6-c0ba-0f3a90ff5ac7"
      },
      "execution_count": null,
      "outputs": [
        {
          "output_type": "stream",
          "name": "stdout",
          "text": [
            "Happy Teachers' Day\n"
          ]
        }
      ]
    },
    {
      "cell_type": "code",
      "source": [
        "print('''Happy\n",
        "          Teacher's\n",
        "                  Day''')"
      ],
      "metadata": {
        "colab": {
          "base_uri": "https://localhost:8080/"
        },
        "id": "GbTaHUU4CVam",
        "outputId": "6dc900cb-5625-4930-fdd8-9fa866841c66"
      },
      "execution_count": null,
      "outputs": [
        {
          "output_type": "stream",
          "name": "stdout",
          "text": [
            "Happy\n",
            "Teacher's \n",
            "Day\n"
          ]
        }
      ]
    },
    {
      "cell_type": "code",
      "source": [
        "print('''Happy\n",
        "          Teacher's\n",
        "                  Day''')"
      ],
      "metadata": {
        "colab": {
          "base_uri": "https://localhost:8080/"
        },
        "id": "v033mnYU3au5",
        "outputId": "d4aa98ac-2a70-4fd7-9fa0-20791a8621b5"
      },
      "execution_count": null,
      "outputs": [
        {
          "output_type": "stream",
          "name": "stdout",
          "text": [
            "Happy\n",
            "          Teacher's\n",
            "                  Day\n"
          ]
        }
      ]
    },
    {
      "cell_type": "code",
      "source": [
        "print(2+18)"
      ],
      "metadata": {
        "colab": {
          "base_uri": "https://localhost:8080/"
        },
        "id": "vVaaHQ1pCjIW",
        "outputId": "b264f599-54ef-4893-f338-6724abdddd6a"
      },
      "execution_count": null,
      "outputs": [
        {
          "output_type": "stream",
          "name": "stdout",
          "text": [
            "20\n"
          ]
        }
      ]
    },
    {
      "cell_type": "code",
      "source": [
        "print(2+2.8)"
      ],
      "metadata": {
        "colab": {
          "base_uri": "https://localhost:8080/"
        },
        "id": "xRFOUn0DCppB",
        "outputId": "2b403f26-7f9d-43a7-c2da-45142709d61f"
      },
      "execution_count": null,
      "outputs": [
        {
          "output_type": "stream",
          "name": "stdout",
          "text": [
            "4.8\n"
          ]
        }
      ]
    },
    {
      "cell_type": "code",
      "source": [
        "x = 'BO CDSA'\n",
        "y = 105\n",
        "print(x,y)"
      ],
      "metadata": {
        "colab": {
          "base_uri": "https://localhost:8080/"
        },
        "id": "UCXKwHz5CvAE",
        "outputId": "914e6fd7-89b0-40b7-d8fc-e850cbfad5d2"
      },
      "execution_count": null,
      "outputs": [
        {
          "output_type": "stream",
          "name": "stdout",
          "text": [
            "BO CDSA 105\n"
          ]
        }
      ]
    },
    {
      "cell_type": "code",
      "source": [
        "type(x)"
      ],
      "metadata": {
        "colab": {
          "base_uri": "https://localhost:8080/"
        },
        "id": "55uJOKnADXko",
        "outputId": "45c7142e-4e7f-4749-d7c4-8832322470da"
      },
      "execution_count": null,
      "outputs": [
        {
          "output_type": "execute_result",
          "data": {
            "text/plain": [
              "str"
            ]
          },
          "metadata": {},
          "execution_count": 4
        }
      ]
    },
    {
      "cell_type": "code",
      "source": [
        "type(y)"
      ],
      "metadata": {
        "colab": {
          "base_uri": "https://localhost:8080/"
        },
        "id": "nLZ8yGawDgHK",
        "outputId": "3b5e84a8-e98a-40c3-a3e5-719090dc215a"
      },
      "execution_count": null,
      "outputs": [
        {
          "output_type": "execute_result",
          "data": {
            "text/plain": [
              "int"
            ]
          },
          "metadata": {},
          "execution_count": 48
        }
      ]
    },
    {
      "cell_type": "code",
      "source": [
        "x,y,z,w,v = \"Python\", \"Is\", \"Great\",\"Language\", \"A\"\n",
        "print(x,y, v,z,w)"
      ],
      "metadata": {
        "colab": {
          "base_uri": "https://localhost:8080/"
        },
        "id": "FCuOvlc4Dj4r",
        "outputId": "cd23f4fc-6430-4062-81ec-20152de142af"
      },
      "execution_count": null,
      "outputs": [
        {
          "output_type": "stream",
          "name": "stdout",
          "text": [
            "Python Is A Great Language\n"
          ]
        }
      ]
    },
    {
      "cell_type": "code",
      "source": [
        "x = 25\n",
        "y = 5\n",
        "z = x + y\n",
        "print(z)\n",
        "type(z)\n",
        "w = y+0.2\n",
        "print(w)\n",
        "type(w)"
      ],
      "metadata": {
        "colab": {
          "base_uri": "https://localhost:8080/"
        },
        "id": "zmsuJ2U2EW_s",
        "outputId": "5d8d7321-193d-4f14-f2bc-dbe7af6a7c0e"
      },
      "execution_count": null,
      "outputs": [
        {
          "output_type": "stream",
          "name": "stdout",
          "text": [
            "30\n",
            "5.2\n"
          ]
        },
        {
          "output_type": "execute_result",
          "data": {
            "text/plain": [
              "float"
            ]
          },
          "metadata": {},
          "execution_count": 6
        }
      ]
    },
    {
      "cell_type": "code",
      "source": [
        "x= int(input(\"Enter First Number\"))\n",
        "y= int(input(\"Enter secound Number\"))\n",
        "z = x+y\n",
        "print(\"Sum of your number is \")"
      ],
      "metadata": {
        "colab": {
          "base_uri": "https://localhost:8080/"
        },
        "id": "khm7aLtbHmWy",
        "outputId": "084ca768-291f-4711-ff85-57e6cfe102be"
      },
      "execution_count": null,
      "outputs": [
        {
          "output_type": "stream",
          "name": "stdout",
          "text": [
            "Enter First Number5\n",
            "Enter secound Number3\n",
            "Sum of your number is \n"
          ]
        }
      ]
    },
    {
      "cell_type": "markdown",
      "source": [],
      "metadata": {
        "id": "7lp3Y7VCOCKe"
      }
    },
    {
      "cell_type": "code",
      "source": [
        "x= 26\n",
        "y= 4\n",
        "z= x**(1/2)\n",
        "print(z)\n",
        "\n"
      ],
      "metadata": {
        "id": "XK9q0y4DFwaF"
      },
      "execution_count": null,
      "outputs": []
    },
    {
      "cell_type": "code",
      "source": [
        "x = ['ram',1,3,5,7,6,'pankaj']\n",
        "x.append('hari')\n",
        "x.insert(3,\"Jonh\")"
      ],
      "metadata": {
        "id": "ZCDQyntjLmMC"
      },
      "execution_count": null,
      "outputs": []
    },
    {
      "cell_type": "code",
      "source": [],
      "metadata": {
        "id": "657i2fjLL2-t"
      },
      "execution_count": null,
      "outputs": []
    },
    {
      "cell_type": "markdown",
      "source": [
        "if else use calse"
      ],
      "metadata": {
        "id": "gLzdyr6jODOK"
      }
    },
    {
      "cell_type": "code",
      "source": [
        "x= int(input(\"Enter Number\"))\n",
        "\n",
        "if x%2==1:\n",
        "       print(\"number is odd\")\n",
        "else:\n",
        "       print(\"number is even\")"
      ],
      "metadata": {
        "id": "ftowIn8COHws"
      },
      "execution_count": null,
      "outputs": []
    },
    {
      "cell_type": "code",
      "source": [
        "x= int(input(\"Enter Number\"))\n",
        "\n",
        "if x%2==0:\n",
        "       print(\"Devisibale by 2\")\n",
        "elif x%3==0:\n",
        "       print(\"Devisibale by 3\")\n",
        "elif x%4==0:\n",
        "       print(\"Devisibale by 4\")\n",
        "elif x%5==0:\n",
        "       print(\"Devisibale by 5\")\n",
        "else:\n",
        "       print(\"not Devisibale by 2 , 3, 4, 5\")"
      ],
      "metadata": {
        "colab": {
          "base_uri": "https://localhost:8080/"
        },
        "id": "diqkpJA4RVZj",
        "outputId": "a510dca2-e4b0-441e-f83a-9c078411e96d"
      },
      "execution_count": null,
      "outputs": [
        {
          "output_type": "stream",
          "name": "stdout",
          "text": [
            "Enter Number101\n",
            "not Devisibale by 2 , 3, 4, 5\n"
          ]
        }
      ]
    },
    {
      "cell_type": "code",
      "source": [
        "x= int(input(\"Enter Number\"))\n",
        "\n",
        "if x%2==0:\n",
        "       print(\"Devisibale by 2\")\n",
        "elif x%3==0:\n",
        "       print(\"Devisibale by 3\")\n",
        "elif x%4==0:\n",
        "       print(\"Devisibale by 4\")\n",
        "elif x%5==0:\n",
        "       print(\"Devisibale by 5\")\n",
        "else:\n",
        "       print(\"not Devisibale by 2 , 3, 4, 5\")"
      ],
      "metadata": {
        "colab": {
          "base_uri": "https://localhost:8080/"
        },
        "id": "J5lic1Qm3dsV",
        "outputId": "007ecdf6-7020-4431-8afc-ac2f378cd048"
      },
      "execution_count": null,
      "outputs": [
        {
          "output_type": "stream",
          "name": "stdout",
          "text": [
            "Enter Number5\n",
            "Devisibale by 5\n"
          ]
        }
      ]
    },
    {
      "cell_type": "code",
      "source": [
        "x= int(input(\"Enter Number\"))\n",
        "\n",
        "if x%2==0:\n",
        "       print(\"Devisibale by 2\")\n",
        "elif x%3==0:\n",
        "       print(\"Devisibale by 3\")\n",
        "elif x%4==0:\n",
        "       print(\"Devisibale by 4\")\n",
        "elif x%5==0:\n",
        "       print(\"Devisibale by 5\")\n",
        "else:\n",
        "       print(\"not Devisibale by 2 , 3, 4, 5\")"
      ],
      "metadata": {
        "id": "pa8M6ai2Zw_G"
      },
      "execution_count": null,
      "outputs": []
    },
    {
      "cell_type": "code",
      "source": [
        "x= int(input(\"Enter Number\"))\n",
        "\n",
        "if x%2==0:\n",
        "       print(\"Devisibale by 2\")\n",
        "elif x%3==0:\n",
        "       print(\"Devisibale by 3\")\n",
        "elif x%4==0:\n",
        "       print(\"Devisibale by 4\")\n",
        "elif x%5==0:\n",
        "       print(\"Devisibale by 5\")\n",
        "else:\n",
        "       print(\"not Devisibale by 2 , 3, 4, 5\")"
      ],
      "metadata": {
        "id": "DL0f2g31Z70A"
      },
      "execution_count": null,
      "outputs": []
    },
    {
      "cell_type": "code",
      "source": [
        "x= int(input(\"Enter Number\"))\n",
        "\n",
        "if x%2==0:\n",
        "       print(\"Devisibale by 2\")\n",
        "elif x%3==0:\n",
        "       print(\"Devisibale by 3\")\n",
        "elif x%4==0:\n",
        "       print(\"Devisibale by 4\")\n",
        "elif x%5==0:\n",
        "       print(\"Devisibale by 5\")\n",
        "else:\n",
        "       print(\"not Devisibale by 2 , 3, 4, 5\")"
      ],
      "metadata": {
        "id": "Ea1wIvJGaByK"
      },
      "execution_count": null,
      "outputs": []
    },
    {
      "cell_type": "code",
      "source": [],
      "metadata": {
        "id": "bz3IhNcf_yIm"
      },
      "execution_count": null,
      "outputs": []
    },
    {
      "cell_type": "markdown",
      "source": [
        "20240824 - Class"
      ],
      "metadata": {
        "id": "f3gLt7e9-pAU"
      }
    },
    {
      "cell_type": "code",
      "source": [
        "x= [3,5,9,1,2,3,5,7,9]\n",
        "print(x[-5:-2])"
      ],
      "metadata": {
        "colab": {
          "base_uri": "https://localhost:8080/"
        },
        "id": "MRhuFiJu-vXE",
        "outputId": "3ea803c0-0f59-47ad-e114-937accbc77ec"
      },
      "execution_count": 3,
      "outputs": [
        {
          "output_type": "stream",
          "name": "stdout",
          "text": [
            "[2, 3, 5]\n"
          ]
        }
      ]
    },
    {
      "cell_type": "code",
      "source": [
        "x= [3,5,9,1,2,3,5,7,9]\n",
        "print(x[2:])"
      ],
      "metadata": {
        "colab": {
          "base_uri": "https://localhost:8080/"
        },
        "id": "ZEJ6qvbEGo_m",
        "outputId": "48394a20-8a47-4c40-c191-e636480b56f4"
      },
      "execution_count": 4,
      "outputs": [
        {
          "output_type": "stream",
          "name": "stdout",
          "text": [
            "[9, 1, 2, 3, 5, 7, 9]\n"
          ]
        }
      ]
    },
    {
      "cell_type": "code",
      "source": [
        "x= [3,5,9,1,2,3,5,7,9]\n",
        "print(x[-0])\n",
        "print(x[1])\n",
        "print(x[-1])\n",
        "\n"
      ],
      "metadata": {
        "colab": {
          "base_uri": "https://localhost:8080/"
        },
        "id": "1zZWi6pFGucV",
        "outputId": "b9687e24-6755-4d33-be95-c3bbb4bd7a26"
      },
      "execution_count": 8,
      "outputs": [
        {
          "output_type": "stream",
          "name": "stdout",
          "text": [
            "3\n",
            "5\n",
            "9\n"
          ]
        }
      ]
    },
    {
      "cell_type": "code",
      "source": [
        "x= [3,5,9,1,2,3,5,7,9]\n",
        "print(x[-0])\n",
        "print(x[2])\n",
        "print(x[-2])"
      ],
      "metadata": {
        "colab": {
          "base_uri": "https://localhost:8080/"
        },
        "id": "RTKaP16jHSnX",
        "outputId": "9d0e1b9b-eb43-4cf7-a062-8c48173a909f"
      },
      "execution_count": 9,
      "outputs": [
        {
          "output_type": "stream",
          "name": "stdout",
          "text": [
            "3\n",
            "9\n",
            "7\n"
          ]
        }
      ]
    }
  ]
}