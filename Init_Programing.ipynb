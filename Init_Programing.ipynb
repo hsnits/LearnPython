{
  "nbformat": 4,
  "nbformat_minor": 0,
  "metadata": {
    "colab": {
      "provenance": [],
      "authorship_tag": "ABX9TyMB5fDL+AwGyZ54WGLrux9W",
      "include_colab_link": true
    },
    "kernelspec": {
      "name": "python3",
      "display_name": "Python 3"
    },
    "language_info": {
      "name": "python"
    }
  },
  "cells": [
    {
      "cell_type": "markdown",
      "metadata": {
        "id": "view-in-github",
        "colab_type": "text"
      },
      "source": [
        "<a href=\"https://colab.research.google.com/github/hsnits/LearnPython/blob/main/Init_Programing.ipynb\" target=\"_parent\"><img src=\"https://colab.research.google.com/assets/colab-badge.svg\" alt=\"Open In Colab\"/></a>"
      ]
    },
    {
      "cell_type": "code",
      "execution_count": null,
      "metadata": {
        "id": "3tjUAeogADsU"
      },
      "outputs": [],
      "source": []
    },
    {
      "cell_type": "markdown",
      "source": [
        "Today is Our First Class\n"
      ],
      "metadata": {
        "id": "J332w4nyAkHQ"
      }
    },
    {
      "cell_type": "code",
      "source": [
        "print(\"Hellow Word\")"
      ],
      "metadata": {
        "colab": {
          "base_uri": "https://localhost:8080/"
        },
        "id": "A7tlBtnXAoAQ",
        "outputId": "6267d52f-ccf9-48ed-f372-918f3e3e9e9e"
      },
      "execution_count": null,
      "outputs": [
        {
          "output_type": "stream",
          "name": "stdout",
          "text": [
            "Hellow Word\n"
          ]
        }
      ]
    },
    {
      "cell_type": "code",
      "source": [
        "print(\"Happy Teachers' Day\")"
      ],
      "metadata": {
        "colab": {
          "base_uri": "https://localhost:8080/"
        },
        "id": "mmeVJC50BdfO",
        "outputId": "48a5b456-26be-4c70-a411-33f498c800ae"
      },
      "execution_count": null,
      "outputs": [
        {
          "output_type": "stream",
          "name": "stdout",
          "text": [
            "Happy Teachers' Day\n"
          ]
        }
      ]
    },
    {
      "cell_type": "code",
      "source": [
        "print('Happy Teachers\\' Day')"
      ],
      "metadata": {
        "colab": {
          "base_uri": "https://localhost:8080/"
        },
        "id": "DEXpRTp_BrPw",
        "outputId": "78587c22-ac1c-4bcf-c149-a1c018c33333"
      },
      "execution_count": null,
      "outputs": [
        {
          "output_type": "stream",
          "name": "stdout",
          "text": [
            "Happy Teachers' Day\n"
          ]
        }
      ]
    },
    {
      "cell_type": "code",
      "source": [
        "print('''Happy Teachers' Day''')"
      ],
      "metadata": {
        "colab": {
          "base_uri": "https://localhost:8080/"
        },
        "id": "8UoWahNKCKA4",
        "outputId": "0060f9c9-1081-4ae6-c0ba-0f3a90ff5ac7"
      },
      "execution_count": null,
      "outputs": [
        {
          "output_type": "stream",
          "name": "stdout",
          "text": [
            "Happy Teachers' Day\n"
          ]
        }
      ]
    },
    {
      "cell_type": "code",
      "source": [
        "print('''Happy\n",
        "Teacher's\n",
        "Day''')"
      ],
      "metadata": {
        "colab": {
          "base_uri": "https://localhost:8080/"
        },
        "id": "GbTaHUU4CVam",
        "outputId": "6dc900cb-5625-4930-fdd8-9fa866841c66"
      },
      "execution_count": null,
      "outputs": [
        {
          "output_type": "stream",
          "name": "stdout",
          "text": [
            "Happy\n",
            "Teacher's \n",
            "Day\n"
          ]
        }
      ]
    },
    {
      "cell_type": "code",
      "source": [
        "print(2+18)"
      ],
      "metadata": {
        "colab": {
          "base_uri": "https://localhost:8080/"
        },
        "id": "vVaaHQ1pCjIW",
        "outputId": "a59b7ddb-cb86-430f-87ca-a4d8fb799de9"
      },
      "execution_count": null,
      "outputs": [
        {
          "output_type": "stream",
          "name": "stdout",
          "text": [
            "20\n"
          ]
        }
      ]
    },
    {
      "cell_type": "code",
      "source": [
        "print(2+2.8)"
      ],
      "metadata": {
        "colab": {
          "base_uri": "https://localhost:8080/"
        },
        "id": "xRFOUn0DCppB",
        "outputId": "cafc454b-345a-474c-f694-bdb20fc82b60"
      },
      "execution_count": null,
      "outputs": [
        {
          "output_type": "stream",
          "name": "stdout",
          "text": [
            "4.8\n"
          ]
        }
      ]
    },
    {
      "cell_type": "code",
      "source": [
        "x = 'BO CDSA'\n",
        "y = 105\n",
        "print(x,y)"
      ],
      "metadata": {
        "colab": {
          "base_uri": "https://localhost:8080/"
        },
        "id": "UCXKwHz5CvAE",
        "outputId": "5058aed8-2afe-40ee-ffc3-296e4517d418"
      },
      "execution_count": null,
      "outputs": [
        {
          "output_type": "stream",
          "name": "stdout",
          "text": [
            "BO CDSA 105\n"
          ]
        }
      ]
    },
    {
      "cell_type": "code",
      "source": [
        "type(x)"
      ],
      "metadata": {
        "colab": {
          "base_uri": "https://localhost:8080/"
        },
        "id": "55uJOKnADXko",
        "outputId": "2c64fbe5-9ed1-446b-98a0-44bcf58f29aa"
      },
      "execution_count": null,
      "outputs": [
        {
          "output_type": "execute_result",
          "data": {
            "text/plain": [
              "str"
            ]
          },
          "metadata": {},
          "execution_count": 47
        }
      ]
    },
    {
      "cell_type": "code",
      "source": [
        "type(y)"
      ],
      "metadata": {
        "colab": {
          "base_uri": "https://localhost:8080/"
        },
        "id": "nLZ8yGawDgHK",
        "outputId": "3b5e84a8-e98a-40c3-a3e5-719090dc215a"
      },
      "execution_count": null,
      "outputs": [
        {
          "output_type": "execute_result",
          "data": {
            "text/plain": [
              "int"
            ]
          },
          "metadata": {},
          "execution_count": 48
        }
      ]
    },
    {
      "cell_type": "code",
      "source": [
        "x,y,z,w,v = \"Python\", \"Is\", \"Great\",\"Language\", \"A\"\n",
        "print(x,y, v,z,w)"
      ],
      "metadata": {
        "colab": {
          "base_uri": "https://localhost:8080/"
        },
        "id": "FCuOvlc4Dj4r",
        "outputId": "730d1a3e-dbb3-40d9-b90e-76e08bd816cc"
      },
      "execution_count": null,
      "outputs": [
        {
          "output_type": "stream",
          "name": "stdout",
          "text": [
            "Python Is A Great Language\n"
          ]
        }
      ]
    },
    {
      "cell_type": "code",
      "source": [
        "x = 25\n",
        "y = 5\n",
        "z = x + y\n",
        "print(z)\n",
        "type(z)\n",
        "w = y+0.2\n",
        "print(w)\n",
        "type(w)"
      ],
      "metadata": {
        "colab": {
          "base_uri": "https://localhost:8080/"
        },
        "id": "zmsuJ2U2EW_s",
        "outputId": "f9bc65d5-0663-4c05-d36d-e5b69508c57c"
      },
      "execution_count": null,
      "outputs": [
        {
          "output_type": "stream",
          "name": "stdout",
          "text": [
            "30\n",
            "5.2\n"
          ]
        },
        {
          "output_type": "execute_result",
          "data": {
            "text/plain": [
              "float"
            ]
          },
          "metadata": {},
          "execution_count": 50
        }
      ]
    },
    {
      "cell_type": "code",
      "source": [
        "x= int(input(\"Enter First Number\"))\n",
        "y= int(input(\"Enter secound Number\"))\n",
        "z = x+y\n",
        "print(\"Sum of your number is \")"
      ],
      "metadata": {
        "colab": {
          "base_uri": "https://localhost:8080/"
        },
        "id": "khm7aLtbHmWy",
        "outputId": "084ca768-291f-4711-ff85-57e6cfe102be"
      },
      "execution_count": null,
      "outputs": [
        {
          "output_type": "stream",
          "name": "stdout",
          "text": [
            "Enter First Number5\n",
            "Enter secound Number3\n",
            "Sum of your number is \n"
          ]
        }
      ]
    },
    {
      "cell_type": "markdown",
      "source": [],
      "metadata": {
        "id": "7lp3Y7VCOCKe"
      }
    },
    {
      "cell_type": "code",
      "source": [
        "x= 26\n",
        "y= 4\n",
        "z= x**(1/2)\n",
        "print(z)\n",
        "\n"
      ],
      "metadata": {
        "id": "XK9q0y4DFwaF"
      },
      "execution_count": null,
      "outputs": []
    },
    {
      "cell_type": "code",
      "source": [
        "x = ['ram',1,3,5,7,6,'pankaj']\n",
        "x.append('hari')\n",
        "x.insert(3,\"Jonh\")"
      ],
      "metadata": {
        "id": "ZCDQyntjLmMC"
      },
      "execution_count": null,
      "outputs": []
    },
    {
      "cell_type": "code",
      "source": [],
      "metadata": {
        "id": "657i2fjLL2-t"
      },
      "execution_count": null,
      "outputs": []
    },
    {
      "cell_type": "markdown",
      "source": [
        "if else use calse"
      ],
      "metadata": {
        "id": "gLzdyr6jODOK"
      }
    },
    {
      "cell_type": "code",
      "source": [
        "x= int(input(\"Enter Number\"))\n",
        "\n",
        "if x%2==1:\n",
        "       print(\"number is odd\")\n",
        "else:\n",
        "       print(\"number is even\")"
      ],
      "metadata": {
        "id": "ftowIn8COHws"
      },
      "execution_count": null,
      "outputs": []
    },
    {
      "cell_type": "code",
      "source": [
        "x= int(input(\"Enter Number\"))\n",
        "\n",
        "if x%2==0:\n",
        "       print(\"Devisibale by 2\")\n",
        "elif x%3==0:\n",
        "       print(\"Devisibale by 3\")\n",
        "elif x%4==0:\n",
        "       print(\"Devisibale by 4\")\n",
        "elif x%5==0:\n",
        "       print(\"Devisibale by 5\")\n",
        "else:\n",
        "       print(\"not Devisibale by 2 , 3, 4, 5\")"
      ],
      "metadata": {
        "colab": {
          "base_uri": "https://localhost:8080/"
        },
        "id": "diqkpJA4RVZj",
        "outputId": "a510dca2-e4b0-441e-f83a-9c078411e96d"
      },
      "execution_count": 5,
      "outputs": [
        {
          "output_type": "stream",
          "name": "stdout",
          "text": [
            "Enter Number101\n",
            "not Devisibale by 2 , 3, 4, 5\n"
          ]
        }
      ]
    }
  ]
}